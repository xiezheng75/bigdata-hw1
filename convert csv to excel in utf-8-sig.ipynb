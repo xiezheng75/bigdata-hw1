{
 "cells": [
  {
   "cell_type": "code",
   "execution_count": 9,
   "id": "9af11d16",
   "metadata": {},
   "outputs": [
    {
     "name": "stdout",
     "output_type": "stream",
     "text": [
      "Converting file \\Alexander Wang.csv...\n",
      "File \\Alexander Wang.csv successfully converted to excel\n",
      "Converting file \\Coach.csv...\n",
      "File \\Coach.csv successfully converted to excel\n",
      "Converting file \\G2000.csv...\n",
      "File \\G2000.csv successfully converted to excel\n",
      "Converting file \\Jacquemus.csv...\n",
      "File \\Jacquemus.csv successfully converted to excel\n",
      "Converting file \\jilsander.csv...\n",
      "File \\jilsander.csv successfully converted to excel\n",
      "Converting file \\Max Mara.csv...\n",
      "File \\Max Mara.csv successfully converted to excel\n",
      "Converting file \\ochirly.csv...\n",
      "File \\ochirly.csv successfully converted to excel\n",
      "Converting file \\phillip lim.csv...\n",
      "File \\phillip lim.csv successfully converted to excel\n",
      "Converting file \\starmatchlist.csv...\n",
      "File \\starmatchlist.csv successfully converted to excel\n",
      "Converting file \\Theory.csv...\n",
      "File \\Theory.csv successfully converted to excel\n",
      "Converting file \\Zara.csv...\n"
     ]
    },
    {
     "name": "stderr",
     "output_type": "stream",
     "text": [
      "D:\\Anaconda\\lib\\site-packages\\IPython\\core\\interactiveshell.py:3444: DtypeWarning: Columns (15) have mixed types.Specify dtype option on import or set low_memory=False.\n",
      "  exec(code_obj, self.user_global_ns, self.user_ns)\n"
     ]
    },
    {
     "name": "stdout",
     "output_type": "stream",
     "text": [
      "File \\Zara.csv successfully converted to excel\n",
      "Converting file \\三枪.csv...\n",
      "File \\三枪.csv successfully converted to excel\n",
      "Converting file \\优衣库.csv...\n",
      "File \\优衣库.csv successfully converted to excel\n"
     ]
    }
   ],
   "source": [
    "import os\n",
    "import pandas as pd\n",
    "\n",
    "fp = \"E:\\\\Fordham Graduate Courses\\\\Fashion Squad of Yilu Zhou project\\\\weiboricardo\\\\weibo\\\\social_media-main\\\\weibo-search\\\\datasheet\"\n",
    "\n",
    "for root , dirs_list , files_list in os.walk ( fp ):\n",
    "    # root represents the current folder path \n",
    "    # dirs all subdirectories under the current folder name \n",
    "    # files in the current folder and all files \n",
    "    for  file  in files_list: \n",
    "        real_fp = os.path.join (fp,file) \n",
    "        # Other files do not move, only change csv \n",
    "        if real_fp.endswith ( '.csv' ): \n",
    "            print ( \"Converting file {}...\" .format(real_fp.replace(fp,''))) \n",
    "            data = pd.read_csv(real_fp) \n",
    "            data.to_excel(real_fp.replace('.csv','.xlsx'), encoding = 'utf-8-sig' , index = False) \n",
    "            print ( \"File {} successfully converted to excel\" .format(real_fp.replace (fp,'')))"
   ]
  },
  {
   "cell_type": "code",
   "execution_count": 10,
   "id": "31788a17",
   "metadata": {},
   "outputs": [
    {
     "data": {
      "text/plain": [
       "'E:\\\\Fordham Graduate Courses\\\\Fashion Squad of Yilu Zhou project'"
      ]
     },
     "execution_count": 10,
     "metadata": {},
     "output_type": "execute_result"
    }
   ],
   "source": [
    "os.getcwd()"
   ]
  },
  {
   "cell_type": "code",
   "execution_count": 3,
   "id": "82394669",
   "metadata": {},
   "outputs": [
    {
     "ename": "TypeError",
     "evalue": "replace() takes 2 positional arguments but 3 were given",
     "output_type": "error",
     "traceback": [
      "\u001b[1;31m---------------------------------------------------------------------------\u001b[0m",
      "\u001b[1;31mTypeError\u001b[0m                                 Traceback (most recent call last)",
      "\u001b[1;32m~\\AppData\\Local\\Temp/ipykernel_44748/232347517.py\u001b[0m in \u001b[0;36m<module>\u001b[1;34m\u001b[0m\n\u001b[0;32m      6\u001b[0m \u001b[1;33m\u001b[0m\u001b[0m\n\u001b[0;32m      7\u001b[0m \u001b[1;32mfor\u001b[0m \u001b[0mp\u001b[0m \u001b[1;32min\u001b[0m \u001b[0mps\u001b[0m\u001b[1;33m.\u001b[0m\u001b[0mglob\u001b[0m\u001b[1;33m(\u001b[0m\u001b[1;34m'*.csv'\u001b[0m\u001b[1;33m)\u001b[0m\u001b[1;33m:\u001b[0m\u001b[1;33m\u001b[0m\u001b[1;33m\u001b[0m\u001b[0m\n\u001b[1;32m----> 8\u001b[1;33m     \u001b[0mpd\u001b[0m\u001b[1;33m.\u001b[0m\u001b[0mread_csv\u001b[0m\u001b[1;33m(\u001b[0m\u001b[0mp\u001b[0m\u001b[1;33m,\u001b[0m\u001b[0mencoding\u001b[0m\u001b[1;33m=\u001b[0m\u001b[1;34m'utf-8-sig'\u001b[0m\u001b[1;33m)\u001b[0m\u001b[1;33m.\u001b[0m\u001b[0mto_excel\u001b[0m\u001b[1;33m(\u001b[0m\u001b[0mp\u001b[0m\u001b[1;33m.\u001b[0m\u001b[0mreplace\u001b[0m\u001b[1;33m(\u001b[0m\u001b[1;34m'.csv'\u001b[0m\u001b[1;33m,\u001b[0m\u001b[1;34m'.xlsx'\u001b[0m\u001b[1;33m)\u001b[0m \u001b[1;33m,\u001b[0m\u001b[0mencoding\u001b[0m \u001b[1;33m=\u001b[0m \u001b[1;34m'utf-8-sig'\u001b[0m\u001b[1;33m,\u001b[0m \u001b[0mindex\u001b[0m \u001b[1;33m=\u001b[0m \u001b[1;32mFalse\u001b[0m\u001b[1;33m)\u001b[0m\u001b[1;33m\u001b[0m\u001b[1;33m\u001b[0m\u001b[0m\n\u001b[0m\u001b[0;32m      9\u001b[0m \u001b[1;33m\u001b[0m\u001b[0m\n\u001b[0;32m     10\u001b[0m \u001b[1;33m\u001b[0m\u001b[0m\n",
      "\u001b[1;31mTypeError\u001b[0m: replace() takes 2 positional arguments but 3 were given"
     ]
    }
   ],
   "source": [
    "# import pathlib2 as pl2\n",
    "# import os\n",
    "# import pandas as pd\n",
    "# ps = pl2.Path('E:\\\\Fordham Graduate Courses\\\\Fashion Squad of Yilu Zhou project\\\\weiboricardo\\\\weibo\\\\social_media-main\\\\weibo-search\\\\datasheet')\n",
    "# # dfs = [pd.read_csv(p, encoding='utf8') for p in ps.glob('*.csv')]\n",
    "\n",
    "# for p in ps.glob('*.csv'):\n",
    "#     pd.read_csv(p,encoding='utf-8-sig').to_excel(p.replace('.csv','.xlsx') ,encoding = 'utf-8-sig', index = False)\n",
    "\n",
    "\n",
    "\n",
    "# dfs\n",
    "# combined_dataset = pd.concat(dfs,ignore_index=True).drop_duplicates().reset_index(drop=True)\n",
    "# combined_dataset.shape\n",
    "# combined_dataset.to_csv('combined_dataset_for_autonomous_vehicle.csv',index=False)"
   ]
  },
  {
   "cell_type": "code",
   "execution_count": null,
   "id": "3701fac9",
   "metadata": {},
   "outputs": [],
   "source": []
  }
 ],
 "metadata": {
  "kernelspec": {
   "display_name": "Python 3 (ipykernel)",
   "language": "python",
   "name": "python3"
  },
  "language_info": {
   "codemirror_mode": {
    "name": "ipython",
    "version": 3
   },
   "file_extension": ".py",
   "mimetype": "text/x-python",
   "name": "python",
   "nbconvert_exporter": "python",
   "pygments_lexer": "ipython3",
   "version": "3.9.7"
  }
 },
 "nbformat": 4,
 "nbformat_minor": 5
}
